{
 "cells": [
  {
   "cell_type": "code",
   "execution_count": 1,
   "metadata": {},
   "outputs": [],
   "source": [
    "import os"
   ]
  },
  {
   "cell_type": "code",
   "execution_count": 2,
   "metadata": {},
   "outputs": [
    {
     "data": {
      "text/plain": [
       "'c:\\\\Users\\\\PASCAL\\\\Car_Price_Predictions\\\\research'"
      ]
     },
     "execution_count": 2,
     "metadata": {},
     "output_type": "execute_result"
    }
   ],
   "source": [
    "%pwd"
   ]
  },
  {
   "cell_type": "code",
   "execution_count": 3,
   "metadata": {},
   "outputs": [],
   "source": [
    "os.chdir(\"../\")"
   ]
  },
  {
   "cell_type": "code",
   "execution_count": 4,
   "metadata": {},
   "outputs": [
    {
     "data": {
      "text/plain": [
       "'c:\\\\Users\\\\PASCAL\\\\Car_Price_Predictions'"
      ]
     },
     "execution_count": 4,
     "metadata": {},
     "output_type": "execute_result"
    }
   ],
   "source": [
    "%pwd"
   ]
  },
  {
   "cell_type": "code",
   "execution_count": 5,
   "metadata": {},
   "outputs": [],
   "source": [
    "from dataclasses import dataclass\n",
    "from pathlib import Path\n",
    "\n",
    "@dataclass(frozen=True)\n",
    "class DataIngestionConfig:\n",
    "    root_dir: Path\n",
    "    source_URL: str\n",
    "    local_data_file: Path\n",
    "    unzip_dir: Path\n",
    "    \n",
    "    "
   ]
  },
  {
   "cell_type": "code",
   "execution_count": 6,
   "metadata": {},
   "outputs": [],
   "source": [
    "from src.CarPrice.constants import *\n",
    "from src.CarPrice.utils.common import read_yaml, create_directories"
   ]
  },
  {
   "cell_type": "code",
   "execution_count": 7,
   "metadata": {},
   "outputs": [],
   "source": [
    "class ConfigurationManager:\n",
    "    def __init__(\n",
    "        self,\n",
    "        config_filepath = CONFIG_FILE_PATH,\n",
    "        params_filepath = PARAMS_FILE_PATH):\n",
    "\n",
    "        self.config = read_yaml(config_filepath)\n",
    "        self.params = read_yaml(params_filepath)\n",
    "\n",
    "        create_directories([self.config.artifacts_root])\n",
    "\n",
    "    \n",
    "\n",
    "    def get_data_ingestion_config(self) -> DataIngestionConfig:\n",
    "        config = self.config.data_ingestion\n",
    "\n",
    "        create_directories([config.root_dir])\n",
    "\n",
    "        data_ingestion_config = DataIngestionConfig(\n",
    "        root_dir=config.root_dir,\n",
    "        source_URL=config.source_URL,\n",
    "        local_data_file=config.local_data_file,\n",
    "        unzip_dir=config.unzip_dir\n",
    "        \n",
    "    )\n",
    "\n",
    "        return data_ingestion_config\n",
    " "
   ]
  },
  {
   "cell_type": "code",
   "execution_count": 8,
   "metadata": {},
   "outputs": [],
   "source": [
    "import os\n",
    "import urllib.request as request\n",
    "import zipfile\n",
    "from CarPrice.logger import logging\n",
    "from CarPrice.utils.common import get_size\n",
    "from sklearn.model_selection import train_test_split\n",
    "from dataclasses import dataclass\n",
    "from CarPrice.logger import logging\n",
    "from sklearn.model_selection import train_test_split\n",
    "import pandas as pd\n",
    "# import requests\n",
    "import urllib\n",
    "import sys\n",
    "import zipfile"
   ]
  },
  {
   "cell_type": "code",
   "execution_count": 9,
   "metadata": {},
   "outputs": [],
   "source": [
    "\n",
    "\n",
    "class DataIngestion:\n",
    "    def __init__(self, data_ingestion_config):\n",
    "        self.config = data_ingestion_config\n",
    "\n",
    "    def download_file(self):\n",
    "        if not os.path.exists(self.config.local_data_file):\n",
    "            filename, headers = urllib.request.urlretrieve(\n",
    "                url=self.config.source_URL,\n",
    "                filename=self.config.local_data_file\n",
    "            )\n",
    "            print(f\"{filename} downloaded with the following info:\\n{headers}\")\n",
    "        else:\n",
    "            print(f\"File already exists of size: {os.path.getsize(self.config.local_data_file)}\")\n",
    "\n",
    "    def extract_zip_file(self):\n",
    "        unzip_path = self.config.unzip_dir\n",
    "        os.makedirs(unzip_path, exist_ok=True)\n",
    "        with zipfile.ZipFile(self.config.local_data_file, 'r') as zip_ref:\n",
    "            zip_ref.extractall(unzip_path)\n",
    "\n",
    "    def ingest_data(self):\n",
    "        logging.info(\"Ingestion of the data is initiated\")\n",
    "\n",
    "        raw_data_path = os.path.join(self.config.unzip_dir, \"raw_data.csv\")\n",
    "        train_data_path = os.path.join(self.config.unzip_dir, \"train_data.csv\")\n",
    "        test_data_path = os.path.join(self.config.unzip_dir, \"test_data.csv\")\n",
    "\n",
    "        data_files = os.listdir(self.config.unzip_dir)\n",
    "        csv_files = [file_name for file_name in data_files if file_name.endswith(\".csv\")]\n",
    "\n",
    "        if len(csv_files) == 0:\n",
    "            raise ValueError(\"No CSV files found in the unzip directory.\")\n",
    "\n",
    "        df = None\n",
    "        for file_name in csv_files:\n",
    "            file_path = os.path.join(self.config.unzip_dir, file_name)\n",
    "            if df is None:\n",
    "                df = pd.read_csv(file_path)\n",
    "            else:\n",
    "                df = pd.concat([df, pd.read_csv(file_path)], ignore_index=True)\n",
    "\n",
    "        # Save the raw data\n",
    "        df.to_csv(raw_data_path, index=False, header=True)\n",
    "\n",
    "        # Train test split\n",
    "        train_set, test_set = train_test_split(df, test_size=0.2, random_state=42)\n",
    "\n",
    "        # Save the train and test data\n",
    "        train_set.to_csv(train_data_path, index=False, header=True)\n",
    "        test_set.to_csv(test_data_path, index=False, header=True)\n",
    "\n",
    "        logging.info(\"Ingestion of the data is completed\")\n",
    "\n",
    "        return train_data_path, test_data_path\n",
    "\n"
   ]
  },
  {
   "cell_type": "code",
   "execution_count": 11,
   "metadata": {},
   "outputs": [],
   "source": [
    "\n",
    "\n",
    "class DataIngestion:\n",
    "    def __init__(self, data_ingestion_config):\n",
    "        self.config = data_ingestion_config\n",
    "\n",
    "    def download_file(self):\n",
    "        if not os.path.exists(self.config.local_data_file):\n",
    "            filename, headers = urllib.request.urlretrieve(\n",
    "                url=self.config.source_URL,\n",
    "                filename=self.config.local_data_file\n",
    "            )\n",
    "            print(f\"{filename} downloaded with the following info:\\n{headers}\")\n",
    "        else:\n",
    "            print(f\"File already exists of size: {os.path.getsize(self.config.local_data_file)}\")\n",
    "\n",
    "    def extract_zip_file(self):\n",
    "        unzip_path = self.config.unzip_dir\n",
    "        os.makedirs(unzip_path, exist_ok=True)\n",
    "        try:\n",
    "            with zipfile.ZipFile(self.config.local_data_file, 'r') as zip_ref:\n",
    "                zip_ref.extractall(unzip_path)\n",
    "            print(\"ZIP file extracted successfully.\")\n",
    "        except zipfile.BadZipFile:\n",
    "            print(\"BadZipFile: File is not a valid ZIP file.\")\n",
    "        except Exception as e:\n",
    "            print(f\"An error occurred while extracting the ZIP file: {str(e)}\")\n",
    "\n",
    "    def ingest_data(self):\n",
    "        logging.info(\"Ingestion of the data is initiated\")\n",
    "\n",
    "        raw_data_path = os.path.join(self.config.unzip_dir, \"raw_data.csv\")\n",
    "        train_data_path = os.path.join(self.config.unzip_dir, \"train_data.csv\")\n",
    "        test_data_path = os.path.join(self.config.unzip_dir, \"test_data.csv\")\n",
    "\n",
    "        data_files = os.listdir(self.config.unzip_dir)\n",
    "        csv_files = [file_name for file_name in data_files if file_name.endswith(\".csv\")]\n",
    "\n",
    "        if len(csv_files) == 0:\n",
    "            print(\"No CSV files found in the unzip directory.\")\n",
    "            return None, None  # Return None values if no CSV files are found\n",
    "\n",
    "        df = None\n",
    "        for file_name in csv_files:\n",
    "            file_path = os.path.join(self.config.unzip_dir, file_name)\n",
    "            if df is None:\n",
    "                df = pd.read_csv(file_path)\n",
    "            else:\n",
    "                df = pd.concat([df, pd.read_csv(file_path)], ignore_index=True)\n",
    "\n",
    "        # Save the raw data\n",
    "        df.to_csv(raw_data_path, index=False, header=True)\n",
    "\n",
    "        # Train test split\n",
    "        train_set, test_set = train_test_split(df, test_size=0.2, random_state=42)\n",
    "\n",
    "        # Save the train and test data\n",
    "        train_set.to_csv(train_data_path, index=False, header=True)\n",
    "        test_set.to_csv(test_data_path, index=False, header=True)\n",
    "\n",
    "        logging.info(\"Ingestion of the data is completed\")\n",
    "\n",
    "        return train_data_path, test_data_path\n"
   ]
  },
  {
   "cell_type": "code",
   "execution_count": 12,
   "metadata": {},
   "outputs": [
    {
     "name": "stdout",
     "output_type": "stream",
     "text": [
      "[2023-09-25 17:48:22,295: INFO: common: yaml file: config\\config.yaml loaded successfully]\n",
      "[2023-09-25 17:48:22,297: INFO: common: yaml file: params.yaml loaded successfully]\n",
      "[2023-09-25 17:48:22,299: INFO: common: created directory at: artifacts]\n",
      "[2023-09-25 17:48:22,301: INFO: common: created directory at: artifacts/data_ingestion]\n",
      "File already exists of size: 121442\n",
      "BadZipFile: File is not a valid ZIP file.\n",
      "[2023-09-25 17:48:22,303: INFO: 1428563508: Ingestion of the data is initiated]\n",
      "No CSV files found in the unzip directory.\n"
     ]
    }
   ],
   "source": [
    "try:\n",
    "    config = ConfigurationManager()\n",
    "    data_ingestion_config = config.get_data_ingestion_config()\n",
    "    data_ingestion = DataIngestion(data_ingestion_config)\n",
    "    data_ingestion.download_file()\n",
    "    data_ingestion.extract_zip_file()\n",
    "    train_data_path, test_data_path = data_ingestion.ingest_data()\n",
    "except Exception as e:\n",
    "    raise e"
   ]
  },
  {
   "cell_type": "code",
   "execution_count": null,
   "metadata": {},
   "outputs": [],
   "source": []
  }
 ],
 "metadata": {
  "kernelspec": {
   "display_name": "Python 3 (ipykernel)",
   "language": "python",
   "name": "python3"
  },
  "language_info": {
   "codemirror_mode": {
    "name": "ipython",
    "version": 3
   },
   "file_extension": ".py",
   "mimetype": "text/x-python",
   "name": "python",
   "nbconvert_exporter": "python",
   "pygments_lexer": "ipython3",
   "version": "3.8.0"
  }
 },
 "nbformat": 4,
 "nbformat_minor": 2
}
